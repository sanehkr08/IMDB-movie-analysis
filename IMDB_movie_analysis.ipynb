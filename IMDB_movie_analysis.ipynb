{
 "cells": [
  {
   "cell_type": "markdown",
   "id": "5b340e36",
   "metadata": {},
   "source": [
    "# IMDB movies dataset analysis using SQLite and Pandas"
   ]
  },
  {
   "cell_type": "code",
   "execution_count": 2,
   "id": "fc09a833",
   "metadata": {},
   "outputs": [],
   "source": [
    "import sqlite3\n",
    "import pandas as pd\n",
    "import numpy as np"
   ]
  },
  {
   "cell_type": "code",
   "execution_count": 4,
   "id": "e671f073",
   "metadata": {},
   "outputs": [],
   "source": [
    "db = sqlite3.connect('IMDB.sqlite')"
   ]
  },
  {
   "cell_type": "markdown",
   "id": "a80badfe",
   "metadata": {},
   "source": [
    "## Top votes"
   ]
  },
  {
   "cell_type": "code",
   "execution_count": 5,
   "id": "56c30ced",
   "metadata": {},
   "outputs": [
    {
     "name": "stdout",
     "output_type": "stream",
     "text": [
      "Inception (2010) 8.8\n"
     ]
    }
   ],
   "source": [
    "df = pd.read_sql_query('Select movie_id,title, rating, (cvotesmale + cvotesfemale) as totalvote from IMDB',db)\n",
    "max = df['totalvote'].max()\n",
    "df = df[df['totalvote'] == max]\n",
    "\n",
    "print(df['Title'].values[0], df['Rating'].values[0])"
   ]
  },
  {
   "cell_type": "markdown",
   "id": "2cba28d1",
   "metadata": {},
   "source": [
    "## Longest runtime"
   ]
  },
  {
   "cell_type": "code",
   "execution_count": 8,
   "id": "165838cd",
   "metadata": {},
   "outputs": [
    {
     "name": "stdout",
     "output_type": "stream",
     "text": [
      "The Wolf of Wall Street (2013) 180\n"
     ]
    }
   ],
   "source": [
    "df = pd.read_sql_query('Select movie_id,title, rating, runtime from IMDB',db)\n",
    "\n",
    "def finding_time(input_runtime):\n",
    "    return input_runtime.strip().split(\" \")[0]\n",
    "\n",
    "df['Runtime'] = df['Runtime'].apply(finding_time)\n",
    "\n",
    "df = df[df['Runtime'] != '']    # '' blanks cannot be converted into integer so it need to be filtered out\n",
    "\n",
    "df.Runtime = df.Runtime.astype(int)\n",
    "res = df.sort_values( by = 'Runtime', ascending = False)\n",
    "\n",
    "print(res['Title'].values[0], res['Runtime'].values[0])"
   ]
  },
  {
   "cell_type": "markdown",
   "id": "350d37c6",
   "metadata": {},
   "source": [
    "## Most profitable movie"
   ]
  },
  {
   "cell_type": "code",
   "execution_count": 10,
   "id": "e7165849",
   "metadata": {},
   "outputs": [
    {
     "name": "stdout",
     "output_type": "stream",
     "text": [
      "Star Wars: The Force Awakens (2015)\n"
     ]
    }
   ],
   "source": [
    "\n",
    "df = pd.read_sql_query('Select title, (domestic+worldwide-(IMDB.budget)) as net_profit from IMDB inner join earning on IMDB.movie_id = earning.movie_id',db)\n",
    "res = df.sort_values(by = 'net_profit', ascending = False)\n",
    "\n",
    "print(res['Title'].values[0])"
   ]
  },
  {
   "cell_type": "markdown",
   "id": "08c675ad",
   "metadata": {},
   "source": [
    "## Least budget movie"
   ]
  },
  {
   "cell_type": "code",
   "execution_count": 31,
   "id": "1180a68d",
   "metadata": {},
   "outputs": [
    {
     "name": "stdout",
     "output_type": "stream",
     "text": [
      "Short Term 12 (2013)\n"
     ]
    }
   ],
   "source": [
    "df = pd.read_sql_query('Select title,budget, (domestic+worldwide-(IMDB.budget)) as net_profit from IMDB inner join earning on IMDB.movie_id = earning.movie_id',db)\n",
    "df['Budget'].replace('', np.nan, inplace = True)\n",
    "df.dropna(subset = ['Budget'], inplace = True)\n",
    "df['Budget'].astype(float)\n",
    "\n",
    "df = df[df['Budget'] == min(df['Budget'])]\n",
    "\n",
    "df = df[df['net_profit'] == df['net_profit'].max()]\n",
    "print(df['Title'].values[0])"
   ]
  },
  {
   "cell_type": "markdown",
   "id": "9695ff8f",
   "metadata": {},
   "source": [
    "##  Year wise top movies"
   ]
  },
  {
   "cell_type": "code",
   "execution_count": 32,
   "id": "f3f8437a",
   "metadata": {},
   "outputs": [
    {
     "name": "stdout",
     "output_type": "stream",
     "text": [
      "2010 Toy Story 3 (2010)\n",
      "2011 Rise of the Planet of the Apes (2011)\n",
      "2012 The Avengers (2012)\n",
      "2013 The Hunger Games: Catching Fire (2013)\n",
      "2014 Guardians of the Galaxy (2014)\n",
      "2015 Star Wars: The Force Awakens (2015)\n",
      "2016 Rogue One (2016)\n"
     ]
    }
   ],
   "source": [
    "df = pd.read_sql_query('select IMDB.movie_id, title, domestic, worldwide from IMDB inner join earning on IMDB.movie_id = earning.movie_id',db)\n",
    "def year(title):\n",
    "    return int(title.strip().split(' ')[-1][-5:-1])\n",
    "\n",
    "df['year'] = df['Title'].apply(year)\n",
    "\n",
    "df['Total'] = df['Domestic'] + df['Worldwide']\n",
    "\n",
    "group = df.groupby('year')['Total'].max()\n",
    "\n",
    "dic = {}\n",
    "for i in range(len(df['Title'])):\n",
    "    if df['Total'][i] in group.values:\n",
    "        key = df['year'][i]\n",
    "        value = df['Title'][i]\n",
    "        dic[key] = value\n",
    "        \n",
    "for i in sorted(dic):\n",
    "    print(i,dic[i])"
   ]
  },
  {
   "cell_type": "markdown",
   "id": "4a0eb2a1",
   "metadata": {},
   "source": [
    "##  Budget percentage genre wise"
   ]
  },
  {
   "cell_type": "code",
   "execution_count": 33,
   "id": "2a3191eb",
   "metadata": {},
   "outputs": [
    {
     "name": "stdout",
     "output_type": "stream",
     "text": [
      "Action 17.98\n",
      "Adventure 25.10\n",
      "Animation 7.66\n",
      "Biography 2.59\n",
      "Comedy 7.22\n",
      "Crime 1.77\n",
      "Drama 10.85\n",
      "Family 1.91\n",
      "Fantasy 4.54\n",
      "History 0.72\n",
      "Horror 0.03\n",
      "Music 0.15\n",
      "Musical 0.25\n",
      "Mystery 1.95\n",
      "Romance 1.12\n",
      "Sci-Fi 10.77\n",
      "Sport 0.46\n",
      "Thriller 3.99\n",
      "War 0.36\n",
      "Western 0.57\n"
     ]
    }
   ],
   "source": [
    "df = pd.read_sql_query('select IMDB.movie_id, genre, title, budget from IMDB inner join genre on IMDB.movie_id = genre.movie_id',db)\n",
    "df\n",
    "\n",
    "df['Budget'].replace('', 0 , inplace = True)\n",
    "df['Budget'] = df['Budget'].astype(float)\n",
    "df[\"genre\"].replace('', np.nan , inplace = True)\n",
    "df.dropna(subset = ['genre'], inplace = True)\n",
    "group = df.groupby('genre')['Budget'].sum()\n",
    "for i in range(len(group)):\n",
    "    pct = (group.values[i]/sum(group.values))*100\n",
    "    print(group.index[i], format(pct, '.2f'))"
   ]
  },
  {
   "cell_type": "markdown",
   "id": "b7e9a8bb",
   "metadata": {},
   "source": [
    "##  Earning percentage genre wise"
   ]
  },
  {
   "cell_type": "code",
   "execution_count": 34,
   "id": "94b50e9a",
   "metadata": {},
   "outputs": [
    {
     "name": "stdout",
     "output_type": "stream",
     "text": [
      "Action 17.91\n",
      "Adventure 23.57\n",
      "Animation 6.77\n",
      "Biography 3.42\n",
      "Comedy 7.69\n",
      "Crime 1.55\n",
      "Drama 11.96\n",
      "Family 1.05\n",
      "Fantasy 5.15\n",
      "History 1.04\n",
      "Horror 0.01\n",
      "Music 0.43\n",
      "Musical 0.38\n",
      "Mystery 2.01\n",
      "Romance 1.45\n",
      "Sci-Fi 9.95\n",
      "Sport 0.32\n",
      "Thriller 4.42\n",
      "War 0.25\n",
      "Western 0.65\n"
     ]
    }
   ],
   "source": [
    "df = pd.read_sql_query('select earning.movie_id, genre, domestic, worldwide from earning inner join genre on earning.movie_id = genre.movie_id',db)\n",
    "\n",
    "\n",
    "df['Total'] = df['Domestic'] + df['Worldwide']\n",
    "df['genre'].replace('', np.nan, inplace = True)\n",
    "df.dropna(subset = ['genre'] , inplace = True)\n",
    "group = df.groupby('genre')['Total'].sum()\n",
    "\n",
    "for i in range(len(group)):\n",
    "    pct = (group.values[i]/sum(group.values))*100\n",
    "    print(group.index[i], format(pct, '.2f'))\n"
   ]
  },
  {
   "cell_type": "markdown",
   "id": "1c5bfc31",
   "metadata": {},
   "source": [
    "##  Top rated movie in Sci-fi Mystery"
   ]
  },
  {
   "cell_type": "code",
   "execution_count": 36,
   "id": "46668b1c",
   "metadata": {},
   "outputs": [
    {
     "name": "stdout",
     "output_type": "stream",
     "text": [
      "Arrival (2016)\n"
     ]
    }
   ],
   "source": [
    "df = pd.read_sql_query('Select title, rating, genre from IMDB inner join genre on IMDB.movie_id = genre.movie_id',db)\n",
    "\n",
    "x =  ((df['genre']== 'Mystery')|(df['genre'] == 'Sci-Fi')) & (df['Rating']>= 8)\n",
    "\n",
    "df = df[x]\n",
    "print(df['Title'].values[0])"
   ]
  }
 ],
 "metadata": {
  "kernelspec": {
   "display_name": "Python 3 (ipykernel)",
   "language": "python",
   "name": "python3"
  },
  "language_info": {
   "codemirror_mode": {
    "name": "ipython",
    "version": 3
   },
   "file_extension": ".py",
   "mimetype": "text/x-python",
   "name": "python",
   "nbconvert_exporter": "python",
   "pygments_lexer": "ipython3",
   "version": "3.10.9"
  }
 },
 "nbformat": 4,
 "nbformat_minor": 5
}
